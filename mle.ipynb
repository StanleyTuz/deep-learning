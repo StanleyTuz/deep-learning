{
 "cells": [
  {
   "cell_type": "code",
   "execution_count": 1,
   "metadata": {},
   "outputs": [],
   "source": [
    "import matplotlib.pyplot as plt\n",
    "import numpy as np\n",
    "import torch\n",
    "import torchvision.datasets as dsets\n",
    "import torch.functional as F\n",
    "from torch import nn\n",
    "from torchvision import transforms\n",
    "datadir = \"./data\"\n",
    "transform = transforms.Compose([\n",
    "    transforms.ToTensor(),\n",
    "    transforms.Normalize(mean=(0,), std=(255,)),\n",
    "    transforms.Lambda(lambda img: torch.ceil(img).squeeze().long())  # make it purely binary\n",
    "])\n",
    "train_dataset = dsets.MNIST(root=datadir, train=True, transform=transform, download=True)\n",
    "val_dataset = dsets.MNIST(root=datadir, train=False, transform=transform, download=True)"
   ]
  },
  {
   "cell_type": "code",
   "execution_count": 2,
   "metadata": {},
   "outputs": [],
   "source": [
    "num_pixels = torch.prod(torch.tensor(train_dataset[0][0].shape)).item()\n",
    "train_X = torch.tensor([td[0].sum().item() for td in train_dataset])  # number of \"on\" pixels\n",
    "train_y = torch.tensor([td[1] for td in train_dataset]) # true class label"
   ]
  },
  {
   "cell_type": "code",
   "execution_count": 3,
   "metadata": {},
   "outputs": [
    {
     "data": {
      "text/plain": [
       "<matplotlib.collections.PathCollection at 0x7feab6966ad0>"
      ]
     },
     "execution_count": 3,
     "metadata": {},
     "output_type": "execute_result"
    },
    {
     "data": {
      "image/png": "[encoded data removed]",
      "text/plain": [
       "<Figure size 640x480 with 1 Axes>"
      ]
     },
     "metadata": {},
     "output_type": "display_data"
    }
   ],
   "source": [
    "plt.scatter(train_X, train_y)"
   ]
  },
  {
   "cell_type": "code",
   "execution_count": 4,
   "metadata": {},
   "outputs": [],
   "source": [
    "classes = np.unique(train_y)"
   ]
  },
  {
   "cell_type": "markdown",
   "metadata": {},
   "source": [
    "What is the model here?\n",
    "\n",
    "Let $N$ be the number of pixels in an image."
   ]
  },
  {
   "cell_type": "markdown",
   "metadata": {},
   "source": [
    "$$ x_i \\sim \\sum_{j=0}^{9} {\\pi}_j\\left(z\\right) \\, p_x\\left(x_i \\,; \\, p_{z_j}, N\\right) $$"
   ]
  },
  {
   "cell_type": "markdown",
   "metadata": {},
   "source": [
    "where \n",
    "\\begin{align}\n",
    "    \\pi\\left(z\\right) & = \\text{Categorical}\\left(\\frac{1}{10},\\frac{1}{10},\\ldots, \\frac{1}{10}\\right) \\\\\n",
    "    & = \\text{prior prob of image }i\\text{ coming from mixture component }j \\\\\n",
    "\\end{align}\n",
    "\n",
    "$$ p_{z_j} = \\text{prob of a pixel being ``on'' for cluster }j,$$ \n",
    "\n",
    "and \n",
    "\n",
    "\n",
    "\\begin{align}\n",
    "    p_x\\left(x_i\\, ; \\, p_{z_j}, N\\right) & = \\text{Binomial}\\left(x_i\\,;\\, p_{z_j}, N\\right) \\\\\n",
    "    & = \\text{data likelihood}\\\\\n",
    "\\end{align}"
   ]
  },
  {
   "cell_type": "code",
   "execution_count": 5,
   "metadata": {},
   "outputs": [],
   "source": [
    "def likelihood_obs(x, p_z, p_b, N):\n",
    "    \"\"\"Likelihood function for the mixture model.\n",
    "    \n",
    "        Args\n",
    "            x: observed positive count\n",
    "            N: observed total count\n",
    "            p_z: vector of probabilities of obs. coming from each cluster\n",
    "            p_b: vector of probabilities for each Binomial cluster\n",
    "\n",
    "        Returns:\n",
    "            p(x): the probability of observing x under this model.\n",
    "    \"\"\"\n",
    "    likelihood_x_accum = torch.tensor(0.0)\n",
    "    for i in range(len(p_z)):\n",
    "        likelihood_x_accum += p_z[i] * torch.distributions.Binomial(total_count=N, probs=p_b[i]).log_prob(torch.tensor(x)).exp()\n",
    "    return likelihood_x_accum.sum()\n",
    "\n",
    "def likelihood_batch(X, p_z, p_b, N):\n",
    "    \"\"\"Compute the log-likelihood for a batch of inputs.\"\"\"\n",
    "    log_likelihood_accum = torch.tensor(0.0)\n",
    "    for x in X:\n",
    "        log_likelihood_accum += torch.log(likelihood_obs(x, p_z, p_b, N))\n",
    "    return log_likelihood_accum\n"
   ]
  },
  {
   "cell_type": "markdown",
   "metadata": {},
   "source": [
    "Perform SGD on the likelihood by tuning $p_z$ and $p_b$."
   ]
  },
  {
   "cell_type": "code",
   "execution_count": 50,
   "metadata": {},
   "outputs": [
    {
     "name": "stdout",
     "output_type": "stream",
     "text": [
      "tensor([0.0534, 0.1618, 0.1440, 0.1437, 0.0346, 0.2475, 0.0555, 0.0517, 0.0278,\n",
      "        0.0799], requires_grad=True)\n",
      "tensor([0.0000e+00, 2.1740e-02, 0.0000e+00, 0.0000e+00, 5.9946e-24, 1.4084e-02,\n",
      "        1.5082e-18, 6.1180e-15, 0.0000e+00, 6.5595e-42])\n",
      "tensor([0.0952, 0.1061, 0.1043, 0.1042, 0.0934, 0.1156, 0.0954, 0.0951, 0.0928,\n",
      "        0.0978], requires_grad=True)\n"
     ]
    },
    {
     "name": "stderr",
     "output_type": "stream",
     "text": [
      "/tmp/ipykernel_23817/4151403332.py:15: UserWarning: To copy construct from a tensor, it is recommended to use sourceTensor.clone().detach() or sourceTensor.clone().detach().requires_grad_(True), rather than torch.tensor(sourceTensor).\n",
      "  likelihood_x_accum += p_z[i] * torch.distributions.Binomial(total_count=N, probs=p_b[i]).log_prob(torch.tensor(x)).exp()\n"
     ]
    }
   ],
   "source": [
    "p_z = torch.distributions.Dirichlet(concentration=torch.tensor([1.0]*10)).sample()\n",
    "p_z.requires_grad = True\n",
    "\n",
    "p_b = torch.distributions.Uniform(low=0, high=1).sample(torch.tensor([10]))\n",
    "p_b.requires_grad = True\n",
    "\n",
    "import torch.nn.functional as F\n",
    "\n",
    "n_imgs = len(train_X)\n",
    "\n",
    "print(p_z)\n",
    "for i in range(n_imgs):    \n",
    "    likelihood_ = likelihood_obs(train_X[i], p_z, p_b, num_pixels)\n",
    "    likelihood_.backward()\n",
    "    with torch.no_grad():\n",
    "        print(p_z.grad)\n",
    "        p_z[:] = F.softmax(p_z + 0.01 * p_z.grad, dim=0)\n",
    "        p_b[:] = torch.sigmoid(p_b + 0.01 * p_b.grad)\n",
    "\n",
    "        print(p_z)\n",
    "        break\n",
    "\n",
    "        p_z.grad.zero_()\n",
    "        p_b.grad.zero_()"
   ]
  },
  {
   "cell_type": "code",
   "execution_count": null,
   "metadata": {},
   "outputs": [],
   "source": []
  }
 ],
 "metadata": {
  "kernelspec": {
   "display_name": "Python 3.10.4 ('torch')",
   "language": "python",
   "name": "python3"
  },
  "language_info": {
   "codemirror_mode": {
    "name": "ipython",
    "version": 3
   },
   "file_extension": ".py",
   "mimetype": "text/x-python",
   "name": "python",
   "nbconvert_exporter": "python",
   "pygments_lexer": "ipython3",
   "version": "3.10.4"
  },
  "orig_nbformat": 4,
  "vscode": {
   "interpreter": {
    "hash": "7848e8479c585d63dc3f933b6462d56d8024a67b6d012023b2d232ff0ab82182"
   }
  }
 },
 "nbformat": 4,
 "nbformat_minor": 2
}
