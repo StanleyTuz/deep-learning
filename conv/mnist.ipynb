{
 "cells": [
  {
   "cell_type": "code",
   "execution_count": null,
   "metadata": {},
   "outputs": [],
   "source": [
    "import torch\n",
    "import torchvision\n",
    "import matplotlib.pyplot as plt"
   ]
  },
  {
   "cell_type": "code",
   "execution_count": null,
   "metadata": {},
   "outputs": [],
   "source": [
    "# download the data\n",
    "training_data = torchvision.datasets.MNIST(\n",
    "    root='./data', # where to save it\n",
    "    train=True,\n",
    "    download=True,\n",
    "    transform=torchvision.transforms.ToTensor(),\n",
    ")\n",
    "\n",
    "test_data = torchvision.datasets.MNIST(\n",
    "    root='./data',\n",
    "    train=False, # create test data\n",
    "    download=True,\n",
    "    transform=torchvision.transforms.ToTensor(),\n",
    ")"
   ]
  },
  {
   "cell_type": "code",
   "execution_count": null,
   "metadata": {},
   "outputs": [],
   "source": [
    "# data looks like [(img, label), (img, label), ...]\n",
    "\n",
    "classes = list(set([l for i,l in training_data]))\n",
    "\n",
    "fig, ax = plt.subplots(figsize=(8,8), ncols=3, nrows=3)\n",
    "\n",
    "for i in range(3):\n",
    "    for j in range(3):\n",
    "        sample_idx = torch.randint(len(training_data), size=(1,)).item()\n",
    "        img, label = training_data[sample_idx]\n",
    "\n",
    "        ax[i, j].imshow(img.squeeze(), cmap=\"gray\")\n",
    "plt.show()"
   ]
  },
  {
   "cell_type": "markdown",
   "metadata": {},
   "source": [
    "A `torch.utils.data.Dataset` loads data one sample at a time by reading each data point from memory, one-by-on, on-demand. Data is not loaded until we try to \"index\" the dataset like `myDataset[10]`, at which point an image is loaded and returned. A custom `Dataset` must implement\n",
    "- `__init__`\n",
    "- `__len__`\n",
    "- `__getitem__`"
   ]
  },
  {
   "cell_type": "code",
   "execution_count": null,
   "metadata": {},
   "outputs": [],
   "source": [
    "import os\n",
    "import pandas as pd\n",
    "\n",
    "class CustomImageDataset(torch.utils.data.Dataset):\n",
    "\n",
    "    def __init__(self, annotations_file, img_dir, transform=None, target_transform=None):\n",
    "        \"\"\"Init directory containing the data, annotations file, and both transforms.\"\"\"\n",
    "        self.img_labels = pd.read_csv(annotations_file)\n",
    "        self.img_dir = img_dir\n",
    "        self.transform = transform\n",
    "        self.target_transform = target_transform\n",
    "\n",
    "    def __len__(self):\n",
    "        return self(self.img_labels)\n",
    "\n",
    "    def __getitem__(self, idx):\n",
    "        \"\"\"Load and return a sample from the dataset, by index. Loads and \n",
    "        transforms each image on-demand.\"\"\"\n",
    "        img_path = os.path.join(self.img_dir, self.img_labels.iloc[idx, 0])\n",
    "        image = torchvision.io.read_image(img_path)\n",
    "        label = self.img_labels.iloc[idx, 1]\n",
    "        if self.transform:\n",
    "            image = self.transform(image)\n",
    "        if self.target_transform:\n",
    "            label = self.target_transform(label)\n",
    "        return image, label"
   ]
  },
  {
   "cell_type": "markdown",
   "metadata": {},
   "source": [
    "Data is typically passed to training routines and models in batches. `torch.utils.data.DataLoader` simplifies this."
   ]
  },
  {
   "cell_type": "code",
   "execution_count": 1,
   "metadata": {},
   "outputs": [
    {
     "name": "stderr",
     "output_type": "stream",
     "text": [
      "/home/DKS0559531/miniconda3/envs/torch/lib/python3.10/site-packages/torchvision/io/image.py:11: UserWarning: Failed to load image Python extension: /home/DKS0559531/miniconda3/envs/torch/lib/python3.10/site-packages/torchvision/image.so: undefined symbol: _ZN5torch3jit17parseSchemaOrNameERKNSt7__cxx1112basic_stringIcSt11char_traitsIcESaIcEEE\n",
      "  warn(f\"Failed to load image Python extension: {e}\")\n"
     ]
    }
   ],
   "source": [
    "import torch\n",
    "import torchvision\n",
    "import matplotlib.pyplot as plt\n",
    "import numpy as np\n",
    "\n",
    "# download the data\n",
    "training_data = torchvision.datasets.MNIST(\n",
    "    root='./data', # where to save it\n",
    "    train=True,\n",
    "    download=True,\n",
    "    transform=torchvision.transforms.ToTensor(),\n",
    ")\n",
    "\n",
    "test_data = torchvision.datasets.MNIST(\n",
    "    root='./data',\n",
    "    train=False, # create test data\n",
    "    download=True,\n",
    "    transform=torchvision.transforms.ToTensor(),\n",
    ")\n",
    "\n",
    "train_dl = torch.utils.data.DataLoader(training_data, batch_size=64, shuffle=True)\n",
    "test_dl = torch.utils.data.DataLoader(test_data, batch_size=64, shuffle=True)\n"
   ]
  },
  {
   "cell_type": "markdown",
   "metadata": {},
   "source": [
    "We can now iterate through the data in batches"
   ]
  },
  {
   "cell_type": "code",
   "execution_count": 2,
   "metadata": {},
   "outputs": [],
   "source": [
    "train_features, train_labels = next(iter(train_dl))"
   ]
  },
  {
   "cell_type": "code",
   "execution_count": 3,
   "metadata": {},
   "outputs": [
    {
     "data": {
      "text/plain": [
       "torch.Size([1, 28, 28])"
      ]
     },
     "execution_count": 3,
     "metadata": {},
     "output_type": "execute_result"
    }
   ],
   "source": [
    "train_features[0].shape # n_channels, height, width"
   ]
  },
  {
   "cell_type": "code",
   "execution_count": 4,
   "metadata": {},
   "outputs": [
    {
     "data": {
      "image/png": "[encoded data removed]",
      "text/plain": [
       "<Figure size 640x480 with 1 Axes>"
      ]
     },
     "metadata": {},
     "output_type": "display_data"
    }
   ],
   "source": [
    "img = train_features[0].squeeze()\n",
    "label = train_labels[0]\n",
    "plt.imshow(img, cmap='gray')\n",
    "plt.title(f\"label: {label}\")\n",
    "plt.show()"
   ]
  },
  {
   "cell_type": "code",
   "execution_count": 5,
   "metadata": {},
   "outputs": [
    {
     "name": "stdout",
     "output_type": "stream",
     "text": [
      "Sequential(\n",
      "  (0): Sequential(\n",
      "    (0): Conv2d(1, 16, kernel_size=(5, 5), stride=(1, 1), padding=(2, 2))\n",
      "    (1): ReLU()\n",
      "    (2): MaxPool2d(kernel_size=2, stride=2, padding=0, dilation=1, ceil_mode=False)\n",
      "  )\n",
      "  (1): Sequential(\n",
      "    (0): Conv2d(16, 32, kernel_size=(5, 5), stride=(1, 1), padding=(2, 2))\n",
      "    (1): ReLU()\n",
      "    (2): MaxPool2d(kernel_size=2, stride=2, padding=0, dilation=1, ceil_mode=False)\n",
      "  )\n",
      "  (2): Flatten(start_dim=1, end_dim=-1)\n",
      "  (3): Linear(in_features=1568, out_features=10, bias=True)\n",
      ")\n"
     ]
    }
   ],
   "source": [
    "conv1 = torch.nn.Sequential(\n",
    "    torch.nn.Conv2d(\n",
    "        in_channels=1,\n",
    "        out_channels=16,\n",
    "        kernel_size=5,\n",
    "        stride=1,\n",
    "        padding=2,\n",
    "        ),\n",
    "    torch.nn.ReLU(),\n",
    "    torch.nn.MaxPool2d(2,2),\n",
    ")\n",
    "\n",
    "conv2 = torch.nn.Sequential(\n",
    "    torch.nn.Conv2d(\n",
    "        in_channels=16,\n",
    "        out_channels=32,\n",
    "        kernel_size=5,\n",
    "        stride=1,\n",
    "        padding=2,\n",
    "    ),\n",
    "    torch.nn.ReLU(),\n",
    "    torch.nn.MaxPool2d(2,2),\n",
    ")\n",
    "\n",
    "flatten = torch.nn.Flatten(1) # retain batch dim\n",
    "\n",
    "linear = torch.nn.Linear(32*7*7, 10)\n",
    "\n",
    "# output = torch.nn.Softmax(dim=1)\n",
    "\n",
    "\n",
    "model = torch.nn.Sequential(\n",
    "    conv1,\n",
    "    conv2,\n",
    "    flatten,\n",
    "    linear,\n",
    "    # output,\n",
    ")\n",
    "\n",
    "print(model)"
   ]
  },
  {
   "cell_type": "code",
   "execution_count": 6,
   "metadata": {},
   "outputs": [],
   "source": [
    "loss_fn = torch.nn.CrossEntropyLoss()\n",
    "\n",
    "optimizer = torch.optim.Adam(model.parameters(), lr=1e-4)"
   ]
  },
  {
   "cell_type": "code",
   "execution_count": 7,
   "metadata": {},
   "outputs": [
    {
     "name": "stdout",
     "output_type": "stream",
     "text": [
      "Epoch:    0\n",
      "Epoch:    1\n",
      "Epoch:    2\n",
      "Epoch:    3\n",
      "Epoch:    4\n",
      "Epoch:    5\n",
      "Epoch:    6\n",
      "Epoch:    7\n",
      "Epoch:    8\n",
      "Epoch:    9\n"
     ]
    }
   ],
   "source": [
    "def train_loop(n_epochs, model, loss_fn, optimizer, loaders):\n",
    "\n",
    "    losses = torch.zeros(n_epochs)\n",
    "\n",
    "    for epoch in range(n_epochs):\n",
    "        print(f\"Epoch: {epoch:>4d}\")\n",
    "        batch_losses = []\n",
    "        # iterate over data loader\n",
    "        for batch_idx, batch in enumerate(loaders['train']):\n",
    "            # print(batch[1])\n",
    "            # break\n",
    "            batch_X, batch_y = batch\n",
    "\n",
    "            # forward propagation\n",
    "            batch_y_pred = model(batch_X)\n",
    "            \n",
    "            # calc loss\n",
    "            batch_loss = loss_fn(batch_y_pred, batch_y)\n",
    "\n",
    "            # backprop\n",
    "            optimizer.zero_grad()\n",
    "            batch_loss.backward()\n",
    "            optimizer.step()\n",
    "\n",
    "            batch_losses.append(batch_loss.item())\n",
    "        \n",
    "        losses[epoch] = torch.mean(torch.tensor(batch_losses))\n",
    "    return losses\n",
    "\n",
    "\n",
    "\n",
    "loaders = {\n",
    "    \"train\": train_dl,\n",
    "    \"test\": test_dl,\n",
    "}\n",
    "\n",
    "losses = train_loop(n_epochs=10, model=model, loss_fn=loss_fn, optimizer=optimizer, loaders=loaders)"
   ]
  },
  {
   "cell_type": "code",
   "execution_count": 9,
   "metadata": {},
   "outputs": [
    {
     "data": {
      "image/png": "[encoded data removed]",
      "text/plain": [
       "<Figure size 300x300 with 1 Axes>"
      ]
     },
     "metadata": {},
     "output_type": "display_data"
    }
   ],
   "source": [
    "plt.figure(figsize=(3,3))\n",
    "plt.plot(losses.numpy())\n",
    "plt.show()"
   ]
  },
  {
   "cell_type": "code",
   "execution_count": 10,
   "metadata": {},
   "outputs": [
    {
     "data": {
      "text/plain": [
       "<matplotlib.image.AxesImage at 0x7f8c713c3550>"
      ]
     },
     "execution_count": 10,
     "metadata": {},
     "output_type": "execute_result"
    },
    {
     "data": {
      "image/png": "[encoded data removed]",
      "text/plain": [
       "<Figure size 640x480 with 1 Axes>"
      ]
     },
     "metadata": {},
     "output_type": "display_data"
    }
   ],
   "source": [
    "batch_X, batch_y =  next(iter(test_dl))\n",
    "\n",
    "y_pred_proba = model(batch_X)\n",
    "y_pred = y_pred_proba.argmax(axis=1)\n",
    "\n",
    "from sklearn.metrics import confusion_matrix\n",
    "\n",
    "cm = confusion_matrix(batch_y, y_pred)\n",
    "plt.imshow(cm)"
   ]
  },
  {
   "cell_type": "code",
   "execution_count": 14,
   "metadata": {},
   "outputs": [
    {
     "data": {
      "image/png": "[encoded data removed]",
      "text/plain": [
       "<Figure size 1600x200 with 1 Axes>"
      ]
     },
     "metadata": {},
     "output_type": "display_data"
    }
   ],
   "source": [
    "\n",
    "layer = 0\n",
    "filters = model[layer][0].weight.data.clone()\n",
    "\n",
    "n_cols = 16\n",
    "\n",
    "n_filters, n_channels, w, h = filters.shape\n",
    "\n",
    "# only plot n_rows * n_rows filters\n",
    "filters = filters.view(n_filters * n_channels, -1, w, h)\n",
    "rows = np.min((filters.shape[0] // n_cols + 1, 64))\n",
    "\n",
    "plt.figure(figsize=(n_cols, rows))\n",
    "grid = torchvision.utils.make_grid(\n",
    "    filters,\n",
    "    nrow=n_cols,\n",
    "    normalize=True,\n",
    ").numpy().transpose((1,2,0))\n",
    "plt.imshow(grid)\n",
    "plt.axis('off')\n",
    "plt.ioff()\n",
    "plt.show()\n"
   ]
  },
  {
   "cell_type": "markdown",
   "metadata": {},
   "source": [
    "### Try again but with larger filters"
   ]
  },
  {
   "cell_type": "code",
   "execution_count": 29,
   "metadata": {},
   "outputs": [
    {
     "name": "stdout",
     "output_type": "stream",
     "text": [
      "ConvNN(\n",
      "  (conv1): Conv2d(1, 16, kernel_size=(5, 5), stride=(1, 1), padding=(2, 2))\n",
      "  (conv2): Conv2d(16, 32, kernel_size=(5, 5), stride=(1, 1), padding=(2, 2))\n",
      "  (linear): Linear(in_features=1568, out_features=10, bias=True)\n",
      "  (pool): MaxPool2d(kernel_size=2, stride=2, padding=0, dilation=1, ceil_mode=False)\n",
      "  (relu): ReLU()\n",
      ")\n"
     ]
    }
   ],
   "source": [
    "from torch.nn import ReLU, Flatten, MaxPool2d\n",
    "\n",
    "# in_channels, out_channels, kernel_size, stride, padding\n",
    "class ConvNN(torch.nn.Module):\n",
    "    def __init__(self):\n",
    "        super().__init__()\n",
    "        self.conv1 = torch.nn.Conv2d(1,16,5,1,2)\n",
    "        self.conv2 = torch.nn.Conv2d(16,32,5,1,2)\n",
    "        self.linear = torch.nn.Linear(32*7*7, 10)\n",
    "        self.pool = MaxPool2d(2,2)\n",
    "        self.relu = ReLU()\n",
    "\n",
    "    def forward(self, x):\n",
    "        x = self.pool(self.relu(self.conv1(x)))\n",
    "        x = self.pool(self.relu(self.conv2(x)))\n",
    "        x = Flatten(1)(x)\n",
    "        x = self.linear(x)\n",
    "        return x\n",
    "\n",
    "\n",
    "model = ConvNN()\n",
    "\n",
    "print(model)"
   ]
  },
  {
   "cell_type": "code",
   "execution_count": 64,
   "metadata": {},
   "outputs": [],
   "source": [
    "loss_fn = torch.nn.CrossEntropyLoss()\n",
    "\n",
    "optimizer = torch.optim.Adam(model.parameters(), lr=1e-4)"
   ]
  },
  {
   "cell_type": "code",
   "execution_count": 65,
   "metadata": {},
   "outputs": [
    {
     "name": "stdout",
     "output_type": "stream",
     "text": [
      "Epoch:    0\n",
      "Epoch:    1\n",
      "Epoch:    2\n",
      "Epoch:    3\n",
      "Epoch:    4\n",
      "Epoch:    5\n",
      "Epoch:    6\n",
      "Epoch:    7\n",
      "Epoch:    8\n",
      "Epoch:    9\n"
     ]
    }
   ],
   "source": [
    "# def train_loop(n_epochs, model, loss_fn, optimizer, loaders):\n",
    "\n",
    "#     losses = torch.zeros(n_epochs)\n",
    "\n",
    "#     for epoch in range(n_epochs):\n",
    "#         print(f\"Epoch: {epoch:>4d}\")\n",
    "#         batch_losses = []\n",
    "#         # iterate over data loader\n",
    "#         for batch_idx, batch in enumerate(loaders['train']):\n",
    "#             # print(batch[1])\n",
    "#             # break\n",
    "#             batch_X, batch_y = batch\n",
    "\n",
    "#             # forward propagation\n",
    "#             batch_y_pred = model(batch_X)\n",
    "            \n",
    "#             # calc loss\n",
    "#             batch_loss = loss_fn(batch_y_pred, batch_y)\n",
    "\n",
    "#             # backprop\n",
    "#             optimizer.zero_grad()\n",
    "#             batch_loss.backward()\n",
    "#             optimizer.step()\n",
    "\n",
    "#             batch_losses.append(batch_loss.item())\n",
    "        \n",
    "#         losses[epoch] = torch.mean(torch.tensor(batch_losses))\n",
    "#     return losses\n",
    "\n",
    "\n",
    "\n",
    "loaders = {\n",
    "    \"train\": train_dl,\n",
    "    \"test\": test_dl,\n",
    "}\n",
    "\n",
    "losses = train_loop(n_epochs=10, model=model, loss_fn=loss_fn, optimizer=optimizer, loaders=loaders)"
   ]
  },
  {
   "cell_type": "code",
   "execution_count": 67,
   "metadata": {},
   "outputs": [
    {
     "data": {
      "image/png": "[encoded data removed]",
      "text/plain": [
       "<Figure size 600x300 with 2 Axes>"
      ]
     },
     "metadata": {},
     "output_type": "display_data"
    }
   ],
   "source": [
    "fig, ax = plt.subplots(ncols=2,figsize=(6,3))\n",
    "ax[0].plot(losses.numpy())\n",
    "\n",
    "batch_X, batch_y =  next(iter(test_dl))\n",
    "\n",
    "y_pred_proba = model(batch_X)\n",
    "y_pred = y_pred_proba.argmax(axis=1)\n",
    "\n",
    "from sklearn.metrics import confusion_matrix\n",
    "\n",
    "cm = confusion_matrix(batch_y, y_pred)\n",
    "ax[1].imshow(cm)\n",
    "\n",
    "plt.show()"
   ]
  },
  {
   "cell_type": "code",
   "execution_count": 68,
   "metadata": {},
   "outputs": [
    {
     "data": {
      "image/png": "[encoded data removed]",
      "text/plain": [
       "<Figure size 800x400 with 4 Axes>"
      ]
     },
     "metadata": {},
     "output_type": "display_data"
    }
   ],
   "source": [
    "y_pred = model.conv1(train_features[:3]).detach().numpy()\n",
    "\n",
    "fig, ax = plt.subplots(ncols=4, figsize=(8,4))\n",
    "for i in range(4):\n",
    "    ax[i].imshow(y_pred[0][i])\n",
    "plt.show()"
   ]
  },
  {
   "cell_type": "code",
   "execution_count": 69,
   "metadata": {},
   "outputs": [
    {
     "data": {
      "image/png": "[encoded data removed]",
      "text/plain": [
       "<Figure size 800x400 with 6 Axes>"
      ]
     },
     "metadata": {},
     "output_type": "display_data"
    }
   ],
   "source": [
    "xp = train_features[:3]\n",
    "y_pred = model.pool(model.relu(model.conv1(xp)))\n",
    "y_pred = model.conv2(y_pred)\n",
    "\n",
    "y_pred = y_pred.detach().numpy()\n",
    "\n",
    "fig, ax = plt.subplots(ncols=6, figsize=(8,4))\n",
    "for i in range(6):\n",
    "    ax[i].imshow(y_pred[0][i])\n",
    "plt.show()"
   ]
  },
  {
   "cell_type": "code",
   "execution_count": 72,
   "metadata": {},
   "outputs": [
    {
     "data": {
      "image/png": "[encoded data removed]",
      "text/plain": [
       "<Figure size 1600x200 with 1 Axes>"
      ]
     },
     "metadata": {},
     "output_type": "display_data"
    }
   ],
   "source": [
    "filters = model.conv1.weight.data.clone()\n",
    "\n",
    "n_cols = 16\n",
    "\n",
    "n_filters, n_channels, w, h = filters.shape\n",
    "\n",
    "# only plot n_rows * n_rows filters\n",
    "filters = filters.view(n_filters * n_channels, -1, w, h)\n",
    "rows = np.min((filters.shape[0] // n_cols + 1, 64))\n",
    "\n",
    "plt.figure(figsize=(n_cols, rows))\n",
    "grid = torchvision.utils.make_grid(\n",
    "    filters,\n",
    "    nrow=n_cols,\n",
    "    normalize=True,\n",
    ").numpy().transpose((1,2,0))\n",
    "plt.imshow(grid)\n",
    "plt.axis('off')\n",
    "plt.ioff()\n",
    "plt.show()\n"
   ]
  },
  {
   "cell_type": "code",
   "execution_count": null,
   "metadata": {},
   "outputs": [],
   "source": []
  }
 ],
 "metadata": {
  "kernelspec": {
   "display_name": "Python 3.10.4 ('torch')",
   "language": "python",
   "name": "python3"
  },
  "language_info": {
   "codemirror_mode": {
    "name": "ipython",
    "version": 3
   },
   "file_extension": ".py",
   "mimetype": "text/x-python",
   "name": "python",
   "nbconvert_exporter": "python",
   "pygments_lexer": "ipython3",
   "version": "3.10.4"
  },
  "orig_nbformat": 4,
  "vscode": {
   "interpreter": {
    "hash": "7848e8479c585d63dc3f933b6462d56d8024a67b6d012023b2d232ff0ab82182"
   }
  }
 },
 "nbformat": 4,
 "nbformat_minor": 2
}
