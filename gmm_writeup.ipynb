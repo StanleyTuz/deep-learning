{
 "cells": [
  {
   "cell_type": "code",
   "execution_count": 3,
   "metadata": {},
   "outputs": [
    {
     "data": {
      "image/png": "[encoded data removed]",
      "text/plain": [
       "<Figure size 400x200 with 1 Axes>"
      ]
     },
     "metadata": {},
     "output_type": "display_data"
    }
   ],
   "source": [
    "import pandas as pd\n",
    "import matplotlib.pyplot as plt\n",
    "import scipy.stats as ss\n",
    "import numpy as np\n",
    "\n",
    "data = pd.read_csv('gmm_1d.csv')\n",
    "\n",
    "fig, ax = plt.subplots(figsize=(4,2))\n",
    "ax.hist(data['y_i'], bins=25)\n",
    "ax.set(xlabel=r'$x$', ylabel='counts')\n",
    "plt.show()"
   ]
  },
  {
   "cell_type": "markdown",
   "metadata": {},
   "source": [
    "Let's start with the univariate data shown above. How can we model these observations, i.e., how can we model this distribution? It's certainly not normally distributed, but it looks almost like multiple normal distributions overlaid atop each other. Thus, we will try a Mixture of Gaussians model.\n",
    "\n",
    "# Gaussian Mixture Model (GMM)\n",
    "\n",
    "We can motivate the form of the GMM by thinking about how the data might have been generated. To generate a single observation from a mixture of $K$ Gaussians:\n",
    "1. We first randomly choose which Gaussian $G_k, k \\in \\left\\{1,2,\\ldots,K\\right\\}$, to draw an observation from, by sampling $k \\sim \\text{Categorical}\\left(w\\right)$ where $w = \\left(w_1, \\ldots, w_K\\right)$ is the prior probability of drawing from each of the $K$ Gaussians.\n",
    "2. Then we draw the observation from the chosen Gaussian $x \\sim G_k$.\n",
    "\n",
    "Note that each $G_k$ has its own parameters $\\mu_k$ and $\\sigma^2_k$.\n",
    "\n",
    "This algorithm describes *the data-generating process* that we're assuming in the GMM model. For fixed values of the parameters $\\left\\{ w_{1:K}, \\mu_{1:K}, \\sigma^2_{1:K} \\right\\}$, we can generate a new observation $x$ by following this procedure: \n",
    "\n",
    "1. $ k  \\sim \\text{Categorical}\\left(w\\right) $\n",
    "2. $ x \\sim G_k\\left(\\mu_k, \\sigma^2_k\\right) $\n"
   ]
  },
  {
   "cell_type": "markdown",
   "metadata": {},
   "source": [
    "## Likelihood\n",
    "\n",
    "In practical problems, though, we are less interested in generating data from a model with a fixed parameter set; we instead have a dataset of observations and we want to determine the parameters of the model that \"best fit\" the observed data. This fitting can be done using Bayesian methods. We will instead adopt the maximum likelihood estimation approach, where we pick the parameters which make the observed data the most likely. \n",
    "\n",
    "To do this, we need to quantify how likely a particular observation is, given a particular choice of parameters. This is the likelihood function. Given a fixed parameter set, the likelihood function will give us a measure of how likely an input observation is under our model with those parameters."
   ]
  },
  {
   "cell_type": "markdown",
   "metadata": {},
   "source": [
    "To construct the likelihood for the GMM, assume we have an observation $x$ and a fixed set of model parameters. Think back to the data generating process: $x$ is generated by choosing a cluster $k$ and then drawing $x$ from the corresponding Gaussian. The probability of drawing $x$ from Gaussian $k$ is just $G_k\\left(x; \\mu_k, \\sigma^2_K\\right)$, the pdf of the Gaussian. But we don't know which $k$ was chosen! All we know is the prior probability of choosing each of the Gaussian components, $w$. Thus, the probability of observing $x$ *at all* is \n",
    "\n",
    "\\begin{align*}\n",
    "    p\\left(x \\, \\middle| \\, w_{1:K}, \\mu_{1:K}, \\sigma^2_{1:K} \\right) & = w_1 \\mathcal{N}\\left(x; \\mu_1, \\sigma^2_1\\right) + w_2 \\mathcal{N}\\left(x; \\mu_2, \\sigma^2_2\\right) + \\cdots + w_K \\mathcal{N}\\left(x; \\mu_K, \\sigma^2_K\\right) \\\\\n",
    "    & = \\sum_{k=1}^K w_k \\mathcal{N}\\left(x; \\mu_k, \\sigma^2_k\\right) \\\\\n",
    "\\end{align*}\n"
   ]
  },
  {
   "cell_type": "markdown",
   "metadata": {},
   "source": [
    "The likelihood for the entire observed dataset $\\mathcal{D}$ is obtained by multiplying this probability over all of the data observations; this is the probability of observing the entire dataset under our model:\n",
    "\n",
    "$$ L_{\\theta}\\left(\\mathcal{D}\\right) := \\prod_{x\\in \\mathcal{D}} \\sum_{k=1}^K w_k \\mathcal{N}\\left(x; \\mu_k, \\sigma^2\\right) $$\n",
    "\n",
    "The goal of our learning is thus to determine the parameters $\\theta = \\left\\{ w_{1:K}, \\mu_{1:K}, \\sigma^2_{1:K} \\right\\}$ which maximize the likelihood:\n",
    "\n",
    "$$ \\theta^* = \\argmax_{\\theta} L_{\\theta}\\left(\\mathcal{D}\\right) $$\n",
    "\n",
    "Since the likelihood is a product of fractions, it can become astronomically small and so we typically deal with the log-likelihood:\n",
    "\n",
    "$$ l_{\\theta}\\left(\\mathcal{D}\\right) := \\log L_{\\theta}\\left(\\mathcal{D}\\right) = \\sum_{x\\in \\mathcal{D}} \\log \\left[ \\sum_{k=1}^K w_k \\mathcal{N}\\left(x; \\mu_k, \\sigma^2_k\\right) \\right] $$"
   ]
  },
  {
   "cell_type": "markdown",
   "metadata": {},
   "source": [
    "Clearly we have \n",
    "\n",
    "$$ \\theta^* = \\argmax_{\\theta} l_{\\theta}\\left(\\mathcal{D}\\right) = \\argmax_{\\theta} L_{\\theta}\\left(\\mathcal{D}\\right) $$\n",
    "\n",
    "Since each term in the sum is negative (the argument of the log is fractional), we can maximize the log-likelihood by maximizing each term. I will write $L_{\\theta}\\left(x\\right)$ for the likelihood of a single data point,\n",
    "\n",
    "$$ L_{\\theta}\\left(x\\right) := \\sum_{k=1}^K w_k \\mathcal{N}\\left(x; \\mu_k, \\sigma^2_k\\right) $$\n",
    "\n",
    "Then the learning objective here is\n",
    "\n",
    "$$ \\theta^* = \\argmax_{\\theta} l_{\\theta}\\left(\\mathcal{D}\\right) = \\argmax_{\\theta} \\sum_{x\\in \\mathcal{D}} \\log L_{\\theta}\\left(x\\right) $$"
   ]
  },
  {
   "cell_type": "markdown",
   "metadata": {},
   "source": [
    "## Gradient descent solution"
   ]
  },
  {
   "cell_type": "markdown",
   "metadata": {},
   "source": [
    "Let's try to solve this by stochastic gradient ascent. We will calculate the gradient of the above objective with respect to each of the parameters."
   ]
  },
  {
   "cell_type": "markdown",
   "metadata": {},
   "source": [
    "Start by working inside of the sum:\n",
    "\n",
    "\\begin{align*}\n",
    "    \\frac{\\partial}{\\partial w_k} \\sum_{x\\in \\mathcal{D}} \\log L_{\\theta} \\left(x\\right) & = \\sum_{x\\in \\mathcal{D}} \\frac{1}{L_{\\theta}\\left(x\\right)} \\frac{\\partial}{\\partial w_k} L_{\\theta}\\left(x\\right) \\\\\n",
    "    & = \\sum_{x\\in \\mathcal{D}} \\frac{\\mathcal{N}\\left(x; \\mu_k, \\sigma^2_k\\right)}{L_{\\theta}\\left(x\\right)}  \\\\\n",
    "\\end{align*}"
   ]
  },
  {
   "cell_type": "markdown",
   "metadata": {},
   "source": [
    "\\begin{align*}\n",
    "    \\frac{\\partial}{\\partial \\mu_k} \\sum_{x\\in\\mathcal{D}} \\log L_{\\theta}\\left(x\\right) & = \\sum_{x\\in \\mathcal{D}} \\frac{1}{L_{\\theta}\\left(x\\right)} \\frac{\\partial}{\\partial \\mu_k} L_{\\theta}\\left(x\\right) \\\\\n",
    "    & = \\sum_{x\\in \\mathcal{D}} \\frac{1}{L_{\\theta}\\left(x\\right)} w_k \\frac{\\partial}{\\partial \\mu_k} \\mathcal{N}\\left(x; \\mu_k, \\sigma^2_k\\right) \\\\\n",
    "    & = \\sum_{x\\in \\mathcal{D}} \\frac{w_k}{L_{\\theta}\\left(x\\right)} \\frac{\\left(x-\\mu_k\\right)}{\\sigma_k^2 \\sqrt{2\\pi \\sigma_k^2}} \\exp\\left({-\\frac{\\left(x-\\mu_k\\right)^2}{2\\sigma_k^2}}\\right) \\\\\n",
    "    & = \\frac{w_k}{\\sigma_k^2 \\sqrt{2\\pi \\sigma_k^2}} \\sum_{x\\in \\mathcal{D}} \\frac{\\left(x-\\mu_k\\right)}{L_{\\theta}\\left(x\\right)} \\frac{}{} \\exp\\left({-\\frac{\\left(x-\\mu_k\\right)^2}{2\\sigma_k^2}}\\right) \\\\\n",
    "\\end{align*}"
   ]
  },
  {
   "cell_type": "markdown",
   "metadata": {},
   "source": [
    "\\begin{align*}\n",
    "    \\frac{\\partial}{\\partial \\sigma^2_k} \\sum_{x\\in\\mathcal{D}} \\log L_{\\theta}\\left(x\\right) & = \\sum_{x\\in \\mathcal{D}} \\frac{1}{L_{\\theta}\\left(x\\right)} \\frac{\\partial}{\\partial \\sigma^2_k} L_{\\theta}\\left(x\\right) \\\\\n",
    "    & = \\sum_{x\\in \\mathcal{D}} \\frac{1}{L_{\\theta}\\left(x\\right)} w_k \\frac{\\partial}{\\partial \\sigma^2_k} \\mathcal{N}\\left(x; \\mu_k, \\sigma^2_k\\right) \\\\\n",
    "    & = \\frac{w_k}{2\\sqrt{2\\pi}}\\sum_{x\\in\\mathcal{D}} \\frac{1}{L_{x}\\left(\\mathcal{D}\\right)} \\left[  \\left(x-\\mu_k\\right)^2 - \\sigma_k^2\\right] \\left(\\sigma^2_k\\right)^{-5/2} \\exp\\left( -\\frac{\\left(x - \\mu_k\\right)^2}{2\\sigma_k^2} \\right) \\\\\n",
    "\\end{align*}"
   ]
  },
  {
   "cell_type": "code",
   "execution_count": 5,
   "metadata": {},
   "outputs": [],
   "source": [
    "K = 3\n",
    "mu = np.array([1.0, 2.0, 3.0])\n",
    "sigma2 = np.array([1.0, 1.0, 1.0])\n",
    "p_ = np.array([ss.norm.pdf(3, loc=mu[k], scale=sigma2[k]) for k in range(K)])\n",
    "\n",
    "w = np.array([0.25, 0.50, 0.25])"
   ]
  },
  {
   "cell_type": "code",
   "execution_count": 6,
   "metadata": {},
   "outputs": [],
   "source": [
    "def L_obs(x, w, mu, sigma2):\n",
    "    \"\"\"Calculate the likelihood of observing a single observation x.\"\"\"\n",
    "    K = len(mu)\n",
    "    p_ = np.array([ss.norm.pdf(x, loc=mu[k], scale=sigma2[k]) for k in range(K)])\n",
    "    return p_ @ w"
   ]
  },
  {
   "cell_type": "code",
   "execution_count": 7,
   "metadata": {},
   "outputs": [],
   "source": [
    "def l_batch(X, w, mu, sigma2):\n",
    "    \"\"\"Calculate the log-likelihood of observing batch X.\"\"\"\n",
    "    ll = np.sum([np.log(L_obs(x, w, mu, sigma2)) for x in X])\n",
    "    return ll"
   ]
  },
  {
   "cell_type": "code",
   "execution_count": 8,
   "metadata": {},
   "outputs": [
    {
     "data": {
      "text/plain": [
       "0.014606200323223732"
      ]
     },
     "execution_count": 8,
     "metadata": {},
     "output_type": "execute_result"
    }
   ],
   "source": [
    "X = np.array([1.0,1.0, 1.23])\n",
    "np.exp(l_batch(X, w, mu, sigma2))"
   ]
  },
  {
   "cell_type": "code",
   "execution_count": 9,
   "metadata": {},
   "outputs": [],
   "source": [
    "def dl_batch_dw(X, w, mu, sigma2):\n",
    "    K = len(mu)\n",
    "    cmpt = np.zeros(K)\n",
    "    denom = np.array([L_obs(x, w, mu, sigma2) for x in X])\n",
    "\n",
    "    for k in range(K):\n",
    "        num = np.array([ss.norm.pdf(x, loc=mu[k], scale=sigma2[k]) for x in X])\n",
    "        cmpt[k] = np.sum(num / denom)\n",
    "    return cmpt\n",
    "\n",
    "def dl_batch_dmu(X, w, mu, sigma2):\n",
    "    K = len(mu)\n",
    "    cmpt = np.zeros(K)\n",
    "    denom = np.array([L_obs(x, w, mu, sigma2) for x in X])\n",
    "\n",
    "    for k in range(K):\n",
    "        num = np.array([(x - mu[k]) * np.exp(- (x - mu[k])**2 / (2 * sigma2[k])) for x in X])\n",
    "        cmpt[k] = np.sum(num / denom)\n",
    "        cmpt[k] = cmpt[k] * w[k] / (sigma2[k] * np.sqrt(2*np.pi * sigma2[k]))\n",
    "    return cmpt\n",
    "    \n",
    "def dl_batch_dsigma2(X, w, mu, sigma2):\n",
    "    K = len(mu)\n",
    "    cmpt = np.zeros(K)\n",
    "    denom = np.array([L_obs(x, w, mu, sigma2) for x in X])\n",
    "\n",
    "    for k in range(K):\n",
    "        num = np.array([((x - mu[k])**2 - sigma2[k]) * (sigma2[k])**(-5/2) * np.exp(- (x - mu[k])**2 / (2* sigma2[k])) for x in X])\n",
    "        cmpt[k] = np.sum(num / denom)\n",
    "        cmpt[k] = cmpt[k] * w[k] / (2 * np.sqrt(2 * np.pi))\n",
    "    return cmpt"
   ]
  },
  {
   "cell_type": "code",
   "execution_count": 10,
   "metadata": {},
   "outputs": [],
   "source": [
    "def softmax(z):\n",
    "    n = np.exp(z)\n",
    "    return n / np.sum(n)"
   ]
  },
  {
   "cell_type": "code",
   "execution_count": 45,
   "metadata": {},
   "outputs": [
    {
     "data": {
      "image/png": "[encoded data removed]",
      "text/plain": [
       "<Figure size 300x200 with 1 Axes>"
      ]
     },
     "metadata": {},
     "output_type": "display_data"
    }
   ],
   "source": [
    "K = 4\n",
    "mu = np.array([1.0, 2.0, 3.0, 4.0])\n",
    "sigma2 = np.array([.5, .5, .5, .5])\n",
    "w = np.array([0.25, 0.25, 0.25, 0.25])\n",
    "X = data['y_i'].values\n",
    "\n",
    "lls = []\n",
    "lls.append(l_batch(X, w, mu, sigma2))\n",
    "\n",
    "\n",
    "for epoch in range(80):\n",
    "\n",
    "    dw = dl_batch_dw(X, w, mu, sigma2)\n",
    "    dmu = dl_batch_dmu(X, w, mu, sigma2)\n",
    "    dsigma2 = dl_batch_dsigma2(X, w, mu, sigma2)\n",
    "\n",
    "    eta_w = 0.01\n",
    "    eta = 0.01\n",
    "\n",
    "    w = softmax(w + eta_w * dw / np.sum(dsigma2))\n",
    "\n",
    "    mu = mu + eta * dmu / np.sum(dmu)\n",
    "    sigma2 = sigma2 + eta * dsigma2 / np.sum(dsigma2)\n",
    "    \n",
    "    # reset sigma2\n",
    "    if any(sigma2 > 3.0):\n",
    "        sigma2 = ss.uniform(0, 1).rvs(4)\n",
    "    # break\n",
    "    lls.append(l_batch(X, w, mu, sigma2))\n",
    "\n",
    "fig, ax = plt.subplots(figsize=(3,2))\n",
    "ax.plot(lls)\n",
    "plt.show()"
   ]
  },
  {
   "cell_type": "code",
   "execution_count": 46,
   "metadata": {},
   "outputs": [
    {
     "data": {
      "text/plain": [
       "array([0.25506076, 0.24937107, 0.24751111, 0.24805705])"
      ]
     },
     "execution_count": 46,
     "metadata": {},
     "output_type": "execute_result"
    }
   ],
   "source": [
    "w"
   ]
  },
  {
   "cell_type": "code",
   "execution_count": 70,
   "metadata": {},
   "outputs": [
    {
     "data": {
      "text/plain": [
       "[<matplotlib.lines.Line2D at 0x7f7a26691930>]"
      ]
     },
     "execution_count": 70,
     "metadata": {},
     "output_type": "execute_result"
    },
    {
     "data": {
      "image/png": "[encoded data removed]",
      "text/plain": [
       "<Figure size 640x480 with 1 Axes>"
      ]
     },
     "metadata": {},
     "output_type": "display_data"
    }
   ],
   "source": [
    "mu\n",
    "plt.plot(lls)"
   ]
  },
  {
   "cell_type": "code",
   "execution_count": 62,
   "metadata": {},
   "outputs": [
    {
     "name": "stderr",
     "output_type": "stream",
     "text": [
      "/tmp/ipykernel_8867/536140314.py:17: RuntimeWarning: overflow encountered in exp\n",
      "  num = np.array([(x - mu[k]) * np.exp(- (x - mu[k])**2 / (2 * sigma2[k])) for x in X])\n",
      "/tmp/ipykernel_8867/536140314.py:19: RuntimeWarning: invalid value encountered in sqrt\n",
      "  cmpt[k] = cmpt[k] * w[k] / (sigma2[k] * np.sqrt(2*np.pi * sigma2[k]))\n",
      "/tmp/ipykernel_8867/536140314.py:28: RuntimeWarning: invalid value encountered in double_scalars\n",
      "  num = np.array([((x - mu[k])**2 - sigma2[k]) * (sigma2[k])**(-5/2) * np.exp(- (x - mu[k])**2 / (2* sigma2[k])) for x in X])\n",
      "/tmp/ipykernel_8867/536140314.py:28: RuntimeWarning: overflow encountered in exp\n",
      "  num = np.array([((x - mu[k])**2 - sigma2[k]) * (sigma2[k])**(-5/2) * np.exp(- (x - mu[k])**2 / (2* sigma2[k])) for x in X])\n"
     ]
    }
   ],
   "source": [
    "K = 4\n",
    "n_learnings = 50\n",
    "X = data['y_i'].values\n",
    "\n",
    "lls = []\n",
    "\n",
    "for learning in range(n_learnings):\n",
    "    # initialize params\n",
    "    mu = ss.uniform(0,5.0).rvs(K)\n",
    "    sigma2 = ss.uniform(0,2).rvs(K)\n",
    "    w = ss.dirichlet(K*[1]).rvs()[0]\n",
    "\n",
    "    for epoch in range(50):\n",
    "        dw = dl_batch_dw(X, w, mu, sigma2)\n",
    "        dmu = dl_batch_dmu(X, w, mu, sigma2)\n",
    "        dsigma2 = dl_batch_dsigma2(X, w, mu, sigma2)\n",
    "\n",
    "        eta_w = 0.02\n",
    "        eta = 0.02\n",
    "\n",
    "        w = softmax(w + eta_w * dw / np.sum(dsigma2))\n",
    "\n",
    "        mu = mu + eta * dmu / np.sum(dmu)\n",
    "        sigma2 = sigma2 + eta * dsigma2 / np.sum(dsigma2)\n",
    "        \n",
    "        # reset sigma2\n",
    "        if any(sigma2 > 1.2):\n",
    "            sigma2 = ss.uniform(0, 1).rvs(4)\n",
    "        \n",
    "    lls.append((l_batch(X, w, mu, sigma2), (w, mu, sigma2)))\n",
    "\n",
    "# fig, ax = plt.subplots(figsize=(3,2))\n",
    "# ax.plot(lls)\n",
    "# plt.show()"
   ]
  },
  {
   "cell_type": "code",
   "execution_count": 63,
   "metadata": {},
   "outputs": [],
   "source": [
    "max_loss, opt = sorted(lls, key=lambda x: x[0], reverse=True)[0]"
   ]
  },
  {
   "cell_type": "code",
   "execution_count": 64,
   "metadata": {},
   "outputs": [
    {
     "data": {
      "text/plain": [
       "(array([nan, nan, nan, nan]),\n",
       " array([nan, nan, nan, nan]),\n",
       " array([nan, nan, nan, nan]))"
      ]
     },
     "execution_count": 64,
     "metadata": {},
     "output_type": "execute_result"
    }
   ],
   "source": [
    "opt"
   ]
  },
  {
   "cell_type": "code",
   "execution_count": null,
   "metadata": {},
   "outputs": [],
   "source": []
  }
 ],
 "metadata": {
  "kernelspec": {
   "display_name": "Python 3.10.4 ('torch')",
   "language": "python",
   "name": "python3"
  },
  "language_info": {
   "codemirror_mode": {
    "name": "ipython",
    "version": 3
   },
   "file_extension": ".py",
   "mimetype": "text/x-python",
   "name": "python",
   "nbconvert_exporter": "python",
   "pygments_lexer": "ipython3",
   "version": "3.10.4"
  },
  "orig_nbformat": 4,
  "vscode": {
   "interpreter": {
    "hash": "7848e8479c585d63dc3f933b6462d56d8024a67b6d012023b2d232ff0ab82182"
   }
  }
 },
 "nbformat": 4,
 "nbformat_minor": 2
}
