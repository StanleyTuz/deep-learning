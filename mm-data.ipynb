{
 "cells": [
  {
   "cell_type": "code",
   "execution_count": 2,
   "metadata": {},
   "outputs": [],
   "source": [
    "import torch\n",
    "import pandas as pd"
   ]
  },
  {
   "cell_type": "code",
   "execution_count": 3,
   "metadata": {},
   "outputs": [],
   "source": [
    "mu = torch.tensor([-1.0, 1.1, 4.3, 2.2])\n",
    "sigma = torch.tensor([.8, .8, .8, .8])\n",
    "n = torch.tensor([40, 50, 30, 50])\n",
    "y_i = torch.concat([\n",
    "    torch.distributions.Normal(loc=mu[i], scale=sigma[i]).sample([n[i]]) for i in range(len(n))])\n",
    "z_i = torch.tensor([0, 1, 2, 3]).repeat_interleave(n)"
   ]
  },
  {
   "cell_type": "code",
   "execution_count": 15,
   "metadata": {},
   "outputs": [],
   "source": [
    "df = pd.DataFrame({'y_i': y_i, 'z_i': z_i}).sample(frac=1).reset_index(drop=True)\n",
    "df.to_csv('gmm_1d.csv', index=False)"
   ]
  },
  {
   "cell_type": "code",
   "execution_count": 67,
   "metadata": {},
   "outputs": [
    {
     "data": {
      "image/png": "[encoded data removed]",
      "text/plain": [
       "<Figure size 640x480 with 1 Axes>"
      ]
     },
     "metadata": {},
     "output_type": "display_data"
    }
   ],
   "source": [
    "mu = torch.tensor([\n",
    "    [-1.0, 1.1],\n",
    "    [4.3, 2.2],\n",
    "    [1.0, 3.7]])\n",
    "\n",
    "scales_ = torch.tensor([0.4, 1.0, 0.6])\n",
    "sigma = torch.tensor([\n",
    "    [[1.0, 0.0],[0.0, 1.0]],\n",
    "    [[1.4, 2.2],[0.0, 1.0]],\n",
    "    [[1.0, 0.0],[0.2, 1.0]],\n",
    "    ])\n",
    "sigma[0,:] = scales_[0] * sigma[0,:]\n",
    "sigma[1,:] = scales_[1] * sigma[1,:]\n",
    "sigma[2,:] = scales_[2] * sigma[2,:]\n",
    "n = torch.tensor([40, 50, 35])\n",
    "\n",
    "y_i = torch.concat([\n",
    "    torch.distributions.MultivariateNormal(loc=mu[i], covariance_matrix=sigma[i]).sample([n[i]]) for i in range(len(n))])\n",
    "\n",
    "z_i = torch.arange(0, len(n)).repeat_interleave(n)\n",
    "\n",
    "fig, ax = plt.subplots()\n",
    "for c_idx, c in enumerate(('red','blue','green')):\n",
    "    y_p = y_i[z_i[:]==c_idx, :]\n",
    "    ax.scatter(y_p[:,0], y_p[:,1], c=c)"
   ]
  },
  {
   "cell_type": "code",
   "execution_count": 73,
   "metadata": {},
   "outputs": [],
   "source": [
    "df2 = pd.DataFrame({'x_i': y_i[:,0], 'y_i': y_i[:,1], 'z_i': z_i})\n",
    "df2.to_csv('gmm_2d.csv', index=False)"
   ]
  },
  {
   "cell_type": "code",
   "execution_count": null,
   "metadata": {},
   "outputs": [],
   "source": []
  }
 ],
 "metadata": {
  "kernelspec": {
   "display_name": "Python 3.10.4 ('torch')",
   "language": "python",
   "name": "python3"
  },
  "language_info": {
   "codemirror_mode": {
    "name": "ipython",
    "version": 3
   },
   "file_extension": ".py",
   "mimetype": "text/x-python",
   "name": "python",
   "nbconvert_exporter": "python",
   "pygments_lexer": "ipython3",
   "version": "3.10.4"
  },
  "orig_nbformat": 4,
  "vscode": {
   "interpreter": {
    "hash": "7848e8479c585d63dc3f933b6462d56d8024a67b6d012023b2d232ff0ab82182"
   }
  }
 },
 "nbformat": 4,
 "nbformat_minor": 2
}
